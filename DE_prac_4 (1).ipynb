{
  "nbformat": 4,
  "nbformat_minor": 0,
  "metadata": {
    "colab": {
      "provenance": []
    },
    "kernelspec": {
      "name": "python3",
      "display_name": "Python 3"
    },
    "language_info": {
      "name": "python"
    }
  },
  "cells": [
    {
      "cell_type": "markdown",
      "source": [
        "# Prac 4A"
      ],
      "metadata": {
        "id": "2SxE72-egMcB"
      }
    },
    {
      "cell_type": "code",
      "source": [
        "import pyspark\n",
        "from pyspark.sql import SparkSession\n",
        "from pyspark.sql.functions import approx_count_distinct, collect_list\n",
        "from pyspark.sql.functions import collect_set, sum, avg, max, countDistinct, count\n",
        "from pyspark.sql.functions import first, last, kurtosis, min, mean, skewness\n",
        "from pyspark.sql.functions import stddev, stddev_samp, stddev_pop, sumDistinct\n",
        "from pyspark.sql.functions import variance, var_samp, var_pop"
      ],
      "metadata": {
        "id": "dzcdtff6gRT5"
      },
      "execution_count": null,
      "outputs": []
    },
    {
      "cell_type": "code",
      "source": [
        "spark = SparkSession.builder.appName(\"exams\").getOrCreate()"
      ],
      "metadata": {
        "id": "x_OgOs4NhV-z"
      },
      "execution_count": null,
      "outputs": []
    },
    {
      "cell_type": "code",
      "source": [
        "simpleData = [(\"James\", \"Sales\", 3000),\n",
        "              (\"Michael\", \"sales\", 4600),\n",
        "              (\"Robert\", \"Sales\", 4100),\n",
        "              (\"Maria\", \"Finance\", 3000),\n",
        "              (\"James\", \"Sales\", 3000),\n",
        "              (\"Scott\", \"Finance\", 3300),\n",
        "              (\"Jen\", \"Finance\", 3900),\n",
        "              (\"Kumar\", \"marketing\", 2000) ,\n",
        "              (\"Saif\",\"sales\", 4100)\n",
        "              ]"
      ],
      "metadata": {
        "id": "BwJq-5-ehbEi"
      },
      "execution_count": null,
      "outputs": []
    },
    {
      "cell_type": "code",
      "source": [
        "schema = [\"employee_name\", \"department\", \"salary\"]"
      ],
      "metadata": {
        "id": "H13m8KrWhkNB"
      },
      "execution_count": null,
      "outputs": []
    },
    {
      "cell_type": "code",
      "source": [
        "df = spark.createDataFrame(data = simpleData, schema = schema)\n",
        "df.printSchema()\n",
        "df.show(truncate=False)"
      ],
      "metadata": {
        "colab": {
          "base_uri": "https://localhost:8080/"
        },
        "id": "TwKp2Qg-j-La",
        "outputId": "e889e49f-0c0c-4548-953d-e80b5770909d"
      },
      "execution_count": null,
      "outputs": [
        {
          "output_type": "stream",
          "name": "stdout",
          "text": [
            "root\n",
            " |-- employee_name: string (nullable = true)\n",
            " |-- department: string (nullable = true)\n",
            " |-- salary: long (nullable = true)\n",
            "\n",
            "+-------------+----------+------+\n",
            "|employee_name|department|salary|\n",
            "+-------------+----------+------+\n",
            "|James        |Sales     |3000  |\n",
            "|Michael      |sales     |4600  |\n",
            "|Robert       |Sales     |4100  |\n",
            "|Maria        |Finance   |3000  |\n",
            "|James        |Sales     |3000  |\n",
            "|Scott        |Finance   |3300  |\n",
            "|Jen          |Finance   |3900  |\n",
            "|Kumar        |marketing |2000  |\n",
            "|Saif         |sales     |4100  |\n",
            "+-------------+----------+------+\n",
            "\n"
          ]
        }
      ]
    },
    {
      "cell_type": "code",
      "source": [
        "print(\"approx_count_distinct: \", str(df.select(approx_count_distinct(\"salary\")).collect()[0][0]))"
      ],
      "metadata": {
        "colab": {
          "base_uri": "https://localhost:8080/"
        },
        "id": "MOuXAstJkDnB",
        "outputId": "64c4208a-14f2-4f88-bfc3-6e5761214ceb"
      },
      "execution_count": null,
      "outputs": [
        {
          "output_type": "stream",
          "name": "stdout",
          "text": [
            "approx_count_distinct:  6\n"
          ]
        }
      ]
    },
    {
      "cell_type": "code",
      "source": [
        "print(\"avg\", str(df.select(avg(\"salary\")).collect()[0][0]))"
      ],
      "metadata": {
        "colab": {
          "base_uri": "https://localhost:8080/"
        },
        "id": "7h_rYkIckSEq",
        "outputId": "9a04e145-233e-485b-ef85-24a5940c13c8"
      },
      "execution_count": null,
      "outputs": [
        {
          "output_type": "stream",
          "name": "stdout",
          "text": [
            "avg 3444.4444444444443\n"
          ]
        }
      ]
    },
    {
      "cell_type": "code",
      "source": [
        "df.select(collect_list(\"salary\")).show(truncate=False)"
      ],
      "metadata": {
        "colab": {
          "base_uri": "https://localhost:8080/"
        },
        "id": "gf-3EjKqkleh",
        "outputId": "e1e582b7-91f9-49cc-ade1-04ac27fe56b5"
      },
      "execution_count": null,
      "outputs": [
        {
          "output_type": "stream",
          "name": "stdout",
          "text": [
            "+------------------------------------------------------+\n",
            "|collect_list(salary)                                  |\n",
            "+------------------------------------------------------+\n",
            "|[3000, 4600, 4100, 3000, 3000, 3300, 3900, 2000, 4100]|\n",
            "+------------------------------------------------------+\n",
            "\n"
          ]
        }
      ]
    },
    {
      "cell_type": "code",
      "source": [
        "df.select(collect_set(\"salary\")).show(truncate=False)"
      ],
      "metadata": {
        "colab": {
          "base_uri": "https://localhost:8080/"
        },
        "id": "7D9umleGkrNq",
        "outputId": "0ea8cc12-ed86-4b05-b52b-fd8101e328a9"
      },
      "execution_count": null,
      "outputs": [
        {
          "output_type": "stream",
          "name": "stdout",
          "text": [
            "+------------------------------------+\n",
            "|collect_set(salary)                 |\n",
            "+------------------------------------+\n",
            "|[4600, 3000, 3900, 4100, 3300, 2000]|\n",
            "+------------------------------------+\n",
            "\n"
          ]
        }
      ]
    },
    {
      "cell_type": "code",
      "source": [
        "df2 = df.select(countDistinct(\"department\", \"salary\"))\n",
        "df2.show(truncate=False)\n",
        "print(\"Distinct COunt of Department&salary:\", str(df2.collect()[0][0]))"
      ],
      "metadata": {
        "colab": {
          "base_uri": "https://localhost:8080/"
        },
        "id": "ZoZH3T2Ek0Qq",
        "outputId": "7570bf07-c643-4d57-f3d9-3efc3688fd82"
      },
      "execution_count": null,
      "outputs": [
        {
          "output_type": "stream",
          "name": "stdout",
          "text": [
            "+----------------------------------+\n",
            "|count(DISTINCT department, salary)|\n",
            "+----------------------------------+\n",
            "|8                                 |\n",
            "+----------------------------------+\n",
            "\n",
            "Distinct COunt of Department&salary: 8\n"
          ]
        }
      ]
    },
    {
      "cell_type": "code",
      "source": [
        "print(\"count: \", str(df.select(count(\"salary\")).collect()[0]))\n",
        "df.select(first(\"salary\")).show(truncate=False)\n",
        "df.select(last(\"salary\")).show(truncate=False)"
      ],
      "metadata": {
        "colab": {
          "base_uri": "https://localhost:8080/"
        },
        "id": "r7ls4L6IlDlC",
        "outputId": "fe923f5c-08b7-4d6d-8f5d-a91e2f443530"
      },
      "execution_count": null,
      "outputs": [
        {
          "output_type": "stream",
          "name": "stdout",
          "text": [
            "count:  Row(count(salary)=9)\n",
            "+-------------+\n",
            "|first(salary)|\n",
            "+-------------+\n",
            "|3000         |\n",
            "+-------------+\n",
            "\n",
            "+------------+\n",
            "|last(salary)|\n",
            "+------------+\n",
            "|4100        |\n",
            "+------------+\n",
            "\n"
          ]
        }
      ]
    },
    {
      "cell_type": "code",
      "source": [
        "df.select(kurtosis(\"salary\")).show(truncate=False)\n",
        "df.select(max(\"salary\")).show(truncate=False)\n",
        "df.select(min(\"salary\")).show(truncate=False)\n",
        "df.select(mean(\"salary\")).show(truncate=False)\n",
        "df.select(skewness(\"salary\")).show(truncate=False)\n",
        "df.select(stddev(\"salary\"),stddev_pop(\"salary\"), stddev_samp(\"salary\")).show(truncate=False)\n",
        "df.select(sum(\"salary\")).show(truncate=False)\n",
        "df.select(sumDistinct(\"salary\")).show(truncate=False)\n",
        "df.select(variance(\"salary\"), var_samp(\"salary\"), var_pop(\"salary\")).show(truncate=False)\n",
        "# df.select(max(\"salary\")).show(truncate=False)"
      ],
      "metadata": {
        "colab": {
          "base_uri": "https://localhost:8080/"
        },
        "id": "5IaR0K7clRCq",
        "outputId": "a7b399da-f377-424b-97be-85a87245a37d"
      },
      "execution_count": null,
      "outputs": [
        {
          "output_type": "stream",
          "name": "stdout",
          "text": [
            "+-------------------+\n",
            "|kurtosis(salary)   |\n",
            "+-------------------+\n",
            "|-0.6953888522988017|\n",
            "+-------------------+\n",
            "\n",
            "+-----------+\n",
            "|max(salary)|\n",
            "+-----------+\n",
            "|4600       |\n",
            "+-----------+\n",
            "\n",
            "+-----------+\n",
            "|min(salary)|\n",
            "+-----------+\n",
            "|2000       |\n",
            "+-----------+\n",
            "\n",
            "+------------------+\n",
            "|avg(salary)       |\n",
            "+------------------+\n",
            "|3444.4444444444443|\n",
            "+------------------+\n",
            "\n",
            "+--------------------+\n",
            "|skewness(salary)    |\n",
            "+--------------------+\n",
            "|-0.28089138971711725|\n",
            "+--------------------+\n",
            "\n",
            "+-----------------+------------------+-------------------+\n",
            "|stddev(salary)   |stddev_pop(salary)|stddev_samp(salary)|\n",
            "+-----------------+------------------+-------------------+\n",
            "|798.6099033807293|752.9366376043296 |798.6099033807293  |\n",
            "+-----------------+------------------+-------------------+\n",
            "\n",
            "+-----------+\n",
            "|sum(salary)|\n",
            "+-----------+\n",
            "|31000      |\n",
            "+-----------+\n",
            "\n"
          ]
        },
        {
          "output_type": "stream",
          "name": "stderr",
          "text": [
            "/usr/local/lib/python3.11/dist-packages/pyspark/sql/functions.py:988: FutureWarning: Deprecated in 3.2, use sum_distinct instead.\n",
            "  warnings.warn(\"Deprecated in 3.2, use sum_distinct instead.\", FutureWarning)\n"
          ]
        },
        {
          "output_type": "stream",
          "name": "stdout",
          "text": [
            "+--------------------+\n",
            "|sum(DISTINCT salary)|\n",
            "+--------------------+\n",
            "|20900               |\n",
            "+--------------------+\n",
            "\n",
            "+-----------------+-----------------+-----------------+\n",
            "|var_samp(salary) |var_samp(salary) |var_pop(salary)  |\n",
            "+-----------------+-----------------+-----------------+\n",
            "|637777.7777777778|637777.7777777778|566913.5802469136|\n",
            "+-----------------+-----------------+-----------------+\n",
            "\n"
          ]
        }
      ]
    },
    {
      "cell_type": "markdown",
      "source": [
        "# prac 4B"
      ],
      "metadata": {
        "id": "p9A-AqQhmFBC"
      }
    },
    {
      "cell_type": "code",
      "source": [
        "import pyspark\n",
        "from pyspark.sql import SparkSession\n",
        "from pyspark.sql.functions import col, sum, avg, max"
      ],
      "metadata": {
        "id": "-8FXqXLrmqbq"
      },
      "execution_count": null,
      "outputs": []
    },
    {
      "cell_type": "code",
      "source": [
        "spark = SparkSession.builder.appName(\"exams\").getOrCreate()"
      ],
      "metadata": {
        "id": "ONp8BxHWmzIh"
      },
      "execution_count": null,
      "outputs": []
    },
    {
      "cell_type": "code",
      "source": [
        "simpleData = [(\"James\", \"sales\", \"NY\", 90000, 34, 10000),\n",
        "              (\"Michael\", \"Sales\", \"NY\", 86000, 56, 20000),\n",
        "              (\"Robert\", \"Sales\",\"CA\", 81000, 30, 23000),\n",
        "              (\"Maria\", \"Finance\", \"CA\", 90000, 24, 23000),\n",
        "              (\"Raman\", \"Finance\", \"CA\", 99000, 40, 42000),\n",
        "              (\"Scott\", \"Finance\", \"NY\", 83000, 36, 19000),\n",
        "              (\"Jen\", \"Finance\", \"NY\", 79000, 53, 15000),\n",
        "              (\"Jeff\", \"Marketing\", \"CA\", 80000, 25, 18000),\n",
        "              (\"Kumar\", \"Marketing\",\"NY\", 91000, 50, 21000)]"
      ],
      "metadata": {
        "id": "X9i7N83bm1x0"
      },
      "execution_count": null,
      "outputs": []
    },
    {
      "cell_type": "code",
      "source": [
        "schema = [\"employee_name\", \"department\", \"state\", \"salary\", \"age\", \"bonus\"]\n",
        "df=spark.createDataFrame(data=simpleData, schema=schema)\n",
        "df.printSchema()\n",
        "df.show(truncate=False)"
      ],
      "metadata": {
        "colab": {
          "base_uri": "https://localhost:8080/"
        },
        "id": "mtC8hLx5nAcx",
        "outputId": "186b9a12-2f06-4b69-9893-ad55710f3a5f"
      },
      "execution_count": null,
      "outputs": [
        {
          "output_type": "stream",
          "name": "stdout",
          "text": [
            "root\n",
            " |-- employee_name: string (nullable = true)\n",
            " |-- department: string (nullable = true)\n",
            " |-- state: string (nullable = true)\n",
            " |-- salary: long (nullable = true)\n",
            " |-- age: long (nullable = true)\n",
            " |-- bonus: long (nullable = true)\n",
            "\n",
            "+-------------+----------+-----+------+---+-----+\n",
            "|employee_name|department|state|salary|age|bonus|\n",
            "+-------------+----------+-----+------+---+-----+\n",
            "|James        |sales     |NY   |90000 |34 |10000|\n",
            "|Michael      |Sales     |NY   |86000 |56 |20000|\n",
            "|Robert       |Sales     |CA   |81000 |30 |23000|\n",
            "|Maria        |Finance   |CA   |90000 |24 |23000|\n",
            "|Raman        |Finance   |CA   |99000 |40 |42000|\n",
            "|Scott        |Finance   |NY   |83000 |36 |19000|\n",
            "|Jen          |Finance   |NY   |79000 |53 |15000|\n",
            "|Jeff         |Marketing |CA   |80000 |25 |18000|\n",
            "|Kumar        |Marketing |NY   |91000 |50 |21000|\n",
            "+-------------+----------+-----+------+---+-----+\n",
            "\n"
          ]
        }
      ]
    },
    {
      "cell_type": "code",
      "source": [
        "\n",
        "df.groupBy(\"department\").sum(\"salary\").show(truncate=False)\n",
        "df.groupBy(\"department\").count().show()\n",
        "df.groupBy(\"department\",\"state\").sum('salary','bonus').show()\n",
        "\n",
        "df.groupBy(\"department\").agg(sum(\"salary\").alias(\"sum_salary\"),avg('salary').alias(\"avg_salary\"),\n",
        "                             sum(\"bonus\").alias(\"sum_bonus\"),\n",
        "                             max(\"age\").alias(\"max_age\")).show(truncate=False)"
      ],
      "metadata": {
        "colab": {
          "base_uri": "https://localhost:8080/"
        },
        "id": "b3F08IPpp_KD",
        "outputId": "c3765e8a-c521-4b40-9173-b0a36392a47f"
      },
      "execution_count": null,
      "outputs": [
        {
          "output_type": "stream",
          "name": "stdout",
          "text": [
            "+----------+-----------+\n",
            "|department|sum(salary)|\n",
            "+----------+-----------+\n",
            "|Sales     |167000     |\n",
            "|Finance   |351000     |\n",
            "|sales     |90000      |\n",
            "|Marketing |171000     |\n",
            "+----------+-----------+\n",
            "\n",
            "+----------+-----+\n",
            "|department|count|\n",
            "+----------+-----+\n",
            "|     Sales|    2|\n",
            "|   Finance|    4|\n",
            "|     sales|    1|\n",
            "| Marketing|    2|\n",
            "+----------+-----+\n",
            "\n",
            "+----------+-----+-----------+----------+\n",
            "|department|state|sum(salary)|sum(bonus)|\n",
            "+----------+-----+-----------+----------+\n",
            "|     sales|   NY|      90000|     10000|\n",
            "|     Sales|   CA|      81000|     23000|\n",
            "|   Finance|   CA|     189000|     65000|\n",
            "|     Sales|   NY|      86000|     20000|\n",
            "|   Finance|   NY|     162000|     34000|\n",
            "| Marketing|   NY|      91000|     21000|\n",
            "| Marketing|   CA|      80000|     18000|\n",
            "+----------+-----+-----------+----------+\n",
            "\n",
            "+----------+----------+----------+---------+-------+\n",
            "|department|sum_salary|avg_salary|sum_bonus|max_age|\n",
            "+----------+----------+----------+---------+-------+\n",
            "|Sales     |167000    |83500.0   |43000    |56     |\n",
            "|Finance   |351000    |87750.0   |99000    |53     |\n",
            "|sales     |90000     |90000.0   |10000    |34     |\n",
            "|Marketing |171000    |85500.0   |39000    |50     |\n",
            "+----------+----------+----------+---------+-------+\n",
            "\n"
          ]
        }
      ]
    },
    {
      "cell_type": "code",
      "source": [
        "df.groupBy(\"department\")\\\n",
        "  .agg(sum(\"salary\").alias(\"sum_salary\"),\\\n",
        "    avg(\"salary\").alias(\"avg_salary\"),\\\n",
        "    sum(\"bonus\").alias(\"sum_bonus\"),\\\n",
        "    max(\"bonus\").alias(\"max_bonus\"))\\\n",
        "  .where(col(\"sum_bonus\") >= 50000)\\\n",
        "  .show(truncate=False)"
      ],
      "metadata": {
        "colab": {
          "base_uri": "https://localhost:8080/"
        },
        "id": "j_RNkHx3q3Ca",
        "outputId": "64ec0476-02ae-457b-95d4-62a9a08aa935"
      },
      "execution_count": null,
      "outputs": [
        {
          "output_type": "stream",
          "name": "stdout",
          "text": [
            "+----------+----------+----------+---------+---------+\n",
            "|department|sum_salary|avg_salary|sum_bonus|max_bonus|\n",
            "+----------+----------+----------+---------+---------+\n",
            "|Finance   |351000    |87750.0   |99000    |42000    |\n",
            "+----------+----------+----------+---------+---------+\n",
            "\n"
          ]
        }
      ]
    },
    {
      "cell_type": "markdown",
      "source": [
        "# Prac 4C"
      ],
      "metadata": {
        "id": "7_ePcGAoq-Ed"
      }
    },
    {
      "cell_type": "code",
      "source": [
        "from pyspark.sql import SparkSession\n",
        "spark = SparkSession.builder.appName(\"Exams\").getOrCreate()"
      ],
      "metadata": {
        "id": "rPPubIl_rbQy"
      },
      "execution_count": null,
      "outputs": []
    },
    {
      "cell_type": "code",
      "source": [
        "data = [(\"James\", \"Sales\", 3000),\n",
        "        (\"Michael\", \"sales\", 4600),\n",
        "        (\"Robert\", \"Sales\", 4100),\n",
        "        (\"Maria\", \"Finance\", 3000),\n",
        "        (\"James\", \"Sales\", 3000),\n",
        "        (\"Scott\", \"Finance\", 3300),\n",
        "        (\"Jen\", \"Finance\", 3900),\n",
        "        (\"Kumar\", \"marketing\", 2000),\n",
        "        (\"Saif\",\"sales\", 4100)\n",
        "              ]"
      ],
      "metadata": {
        "id": "ehE7iyVArlIS"
      },
      "execution_count": null,
      "outputs": []
    },
    {
      "cell_type": "code",
      "source": [
        "columns = [\"Name\", \"Dept\", \"salary\"]\n",
        "df = spark.createDataFrame(data=data, schema=columns)\n",
        "df.distinct().show()\n",
        "print(\"Distinct Count:\", str(df.distinct().count()))"
      ],
      "metadata": {
        "colab": {
          "base_uri": "https://localhost:8080/"
        },
        "id": "ThrTas1erxAi",
        "outputId": "45e6b14b-c9d6-43b8-c8ad-2291eae5c872"
      },
      "execution_count": null,
      "outputs": [
        {
          "output_type": "stream",
          "name": "stdout",
          "text": [
            "+-------+---------+------+\n",
            "|   Name|     Dept|salary|\n",
            "+-------+---------+------+\n",
            "|  James|    Sales|  3000|\n",
            "| Robert|    Sales|  4100|\n",
            "|Michael|    sales|  4600|\n",
            "|  Maria|  Finance|  3000|\n",
            "|  Kumar|marketing|  2000|\n",
            "|    Jen|  Finance|  3900|\n",
            "|  Scott|  Finance|  3300|\n",
            "|   Saif|    sales|  4100|\n",
            "+-------+---------+------+\n",
            "\n",
            "Distinct Count: 8\n"
          ]
        }
      ]
    },
    {
      "cell_type": "code",
      "source": [
        "# Using countDistinct()\n",
        "from pyspark.sql.functions import countDistinct\n",
        "df2 = df.select(countDistinct(\"Dept\", \"Salary\"))\n",
        "df2.show()\n",
        "print(\"Distinct Count of Department&Salary: \", str(df2.collect()[0][0]))"
      ],
      "metadata": {
        "colab": {
          "base_uri": "https://localhost:8080/"
        },
        "id": "WY-6UEtvs19i",
        "outputId": "7f8086e3-fe82-4c2d-fd9e-229a61ad03e7"
      },
      "execution_count": null,
      "outputs": [
        {
          "output_type": "stream",
          "name": "stdout",
          "text": [
            "+----------------------------+\n",
            "|count(DISTINCT Dept, Salary)|\n",
            "+----------------------------+\n",
            "|                           8|\n",
            "+----------------------------+\n",
            "\n",
            "Distinct Count of Department&Salary:  8\n"
          ]
        }
      ]
    },
    {
      "cell_type": "markdown",
      "source": [
        "# Prac 4D"
      ],
      "metadata": {
        "id": "S1PSsWywtRTi"
      }
    },
    {
      "cell_type": "code",
      "source": [
        "from pyspark.sql import SparkSession, Row\n",
        "spark = SparkSession.builder.appName(\"Exams\").getOrCreate()"
      ],
      "metadata": {
        "id": "kmv6g1XmtfDq"
      },
      "execution_count": null,
      "outputs": []
    },
    {
      "cell_type": "code",
      "source": [
        "data = [(\"James\", \"Sales\", 3000),\n",
        "        (\"Michael\", \"Sales\", 4600),\n",
        "        (\"Robert\", \"Sales\", 4100),\n",
        "        (\"Maria\", \"Finance\", 3000),\n",
        "        (\"Raman\", \"Finance\",3000),\n",
        "        (\"Scott\", \"Finance\", 3300),\n",
        "        (\"Jen\", \"Finance\", 3900),\n",
        "        (\"Jeff\", \"Marketing\", 3000),\n",
        "        (\"Kumar\", \"Marketing\", 2000)]"
      ],
      "metadata": {
        "id": "ISOzMl5ouHKy"
      },
      "execution_count": null,
      "outputs": []
    },
    {
      "cell_type": "code",
      "source": [
        "df = spark.createDataFrame(data, [\"Name\", \"Department\", \"salary\"])\n",
        "df.show()"
      ],
      "metadata": {
        "colab": {
          "base_uri": "https://localhost:8080/"
        },
        "id": "BAIkRXGeuu8j",
        "outputId": "2f2699aa-0d90-4eb1-9f5e-0d511c911967"
      },
      "execution_count": null,
      "outputs": [
        {
          "output_type": "stream",
          "name": "stdout",
          "text": [
            "+-------+----------+------+\n",
            "|   Name|Department|salary|\n",
            "+-------+----------+------+\n",
            "|  James|     Sales|  3000|\n",
            "|Michael|     Sales|  4600|\n",
            "| Robert|     Sales|  4100|\n",
            "|  Maria|   Finance|  3000|\n",
            "|  Raman|   Finance|  3000|\n",
            "|  Scott|   Finance|  3300|\n",
            "|    Jen|   Finance|  3900|\n",
            "|   Jeff| Marketing|  3000|\n",
            "|  Kumar| Marketing|  2000|\n",
            "+-------+----------+------+\n",
            "\n"
          ]
        }
      ]
    },
    {
      "cell_type": "code",
      "source": [
        "# Select first row of group\n",
        "from pyspark.sql.window import Window\n",
        "from pyspark.sql.functions import col, row_number\n",
        "w2 = Window.partitionBy(\"department\").orderBy(col(\"salary\"))\n",
        "df.withColumn(\"row\", row_number().over(w2))\\\n",
        "  .filter(col(\"row\")==1).drop(\"row\")\\\n",
        "  .show()"
      ],
      "metadata": {
        "colab": {
          "base_uri": "https://localhost:8080/"
        },
        "id": "V-SdviSpu2aB",
        "outputId": "aa4beb86-4912-4411-e722-2ef184796455"
      },
      "execution_count": null,
      "outputs": [
        {
          "output_type": "stream",
          "name": "stdout",
          "text": [
            "+-----+----------+------+\n",
            "| Name|Department|salary|\n",
            "+-----+----------+------+\n",
            "|Maria|   Finance|  3000|\n",
            "|Kumar| Marketing|  2000|\n",
            "|James|     Sales|  3000|\n",
            "+-----+----------+------+\n",
            "\n"
          ]
        }
      ]
    },
    {
      "cell_type": "code",
      "source": [
        "# Get highest salary of each group\n",
        "w3 = Window.partitionBy(\"department\").orderBy(col(\"salary\").desc())\n",
        "df.withColumn(\"row\", row_number().over(w3))\\\n",
        "  .filter(col(\"row\")==1).drop(\"row\")\\\n",
        "  .show()"
      ],
      "metadata": {
        "colab": {
          "base_uri": "https://localhost:8080/"
        },
        "id": "ziFmvuvXvc8U",
        "outputId": "44fe016e-3514-4047-8704-6b897ca6e5f3"
      },
      "execution_count": null,
      "outputs": [
        {
          "output_type": "stream",
          "name": "stdout",
          "text": [
            "+-------+----------+------+\n",
            "|   Name|Department|salary|\n",
            "+-------+----------+------+\n",
            "|    Jen|   Finance|  3900|\n",
            "|   Jeff| Marketing|  3000|\n",
            "|Michael|     Sales|  4600|\n",
            "+-------+----------+------+\n",
            "\n"
          ]
        }
      ]
    },
    {
      "cell_type": "code",
      "source": [
        "# Get max, min, avg, sum of each group\n",
        "from pyspark.sql.functions import col, row_number, avg, sum, min, max\n",
        "w4 = Window.partitionBy(\"department\")\n",
        "df.withColumn(\"row\", row_number().over(w3))\\\n",
        "  .withColumn(\"avg\", avg(col(\"salary\")).over(w4))\\\n",
        "  .withColumn(\"sum\", sum(col(\"salary\")).over(w4))\\\n",
        "  .withColumn(\"min\", min(col(\"salary\")).over(w4))\\\n",
        "  .withColumn(\"max\", max(col(\"salary\")).over(w4))\\\n",
        "  .where(col(\"row\")==1).select(\"department\", \"avg\", \"sum\", \"min\",\"max\")\\\n",
        "  .show()"
      ],
      "metadata": {
        "colab": {
          "base_uri": "https://localhost:8080/"
        },
        "id": "M9hXRB-VvteW",
        "outputId": "f4b0b830-b6d9-4515-bdaf-ee080e2cb615"
      },
      "execution_count": null,
      "outputs": [
        {
          "output_type": "stream",
          "name": "stdout",
          "text": [
            "+----------+------+-----+----+----+\n",
            "|department|   avg|  sum| min| max|\n",
            "+----------+------+-----+----+----+\n",
            "|   Finance|3300.0|13200|3000|3900|\n",
            "| Marketing|2500.0| 5000|2000|3000|\n",
            "|     Sales|3900.0|11700|3000|4600|\n",
            "+----------+------+-----+----+----+\n",
            "\n"
          ]
        }
      ]
    },
    {
      "cell_type": "code",
      "source": [],
      "metadata": {
        "id": "HtSNn3xUwsLb"
      },
      "execution_count": null,
      "outputs": []
    }
  ]
}